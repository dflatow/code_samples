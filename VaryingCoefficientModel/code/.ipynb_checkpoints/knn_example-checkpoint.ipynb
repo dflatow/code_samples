{
 "metadata": {
  "name": "",
  "signature": "sha256:22da1d0b4349aa3f8a1c860d29a2f3ea057dc958a8b71323cb6ee0160f62ae5b"
 },
 "nbformat": 3,
 "nbformat_minor": 0,
 "worksheets": []
}