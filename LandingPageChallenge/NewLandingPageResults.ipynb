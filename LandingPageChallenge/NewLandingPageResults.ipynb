{
 "metadata": {
  "name": ""
 },
 "nbformat": 3,
 "nbformat_minor": 0,
 "worksheets": [
  {
   "cells": [
    {
     "cell_type": "heading",
     "level": 1,
     "metadata": {
      "slideshow": {
       "slide_type": "-"
      }
     },
     "source": [
      "New Landing Page AB Test Results"
     ]
    },
    {
     "cell_type": "heading",
     "level": 2,
     "metadata": {},
     "source": [
      "Results Summary"
     ]
    },
    {
     "cell_type": "markdown",
     "metadata": {},
     "source": [
      "Overall the new page out performed the old page improving the conversion rate to 10.5% from the baseline rate of 10.0% (5% more conversions), however the effect varied by user country. In particular, the results suggest that the new landing page was a huge success for US users - improving the conversion rate to 10.7% from the baseline rate of 9.8% (8.5% more conversions) with a confidence level well above 99%. However, the new landing page had no significant impact on conversion rates for Canada/UK users.  [Stats note - a 99% confidence level can be interpreted as follows: assuming the control and treatment groups were both routed to the old page, then an improvement of the given magnitude or better would happen only 1% of the time. A 99% confidence level means that it is very unlikely that the improvement was due to random variations in conversion rates.] \n",
      "\n",
      "During the test there seems to have been a malfunction in the way users were being assigned to the new landing page or a bug in how ACME's logs recorded data from the test. Consequently, it appears that some obsevations in the test were misassiged to the treatment group. The prudent course of action, assuming it's not too costly, would be to track down the source of the issue and rerun the test. Given that the thrid party automated system correctly determined the ostensibly significant improvement after a the first day of testing, we should be more inclined to trust their data. However, it's also possible that they reached that conclusion in error (for example - by marking the misassigned rows with contol instead of treatment). Worst case scenario, there are other issues with the assignment mechanism that we are not aware of (i.e. non-random assignment, loss of data, etc.) in which case all results are suspect (garbage in, garbage out). For the purposes of this analysis we droped observations that were implicated in the misassignment from the sample (~5% of the full sample).\n",
      "\n",
      "Aside from getting to the bottom of the assignment issue, here are a few suggestions for improvements for future tests: \n",
      "\n",
      "(1) Track/log data on users charachteristics (e.g. age, gender, browser, city, etc, fisrt_visit_indicator ...) - preferably data that can be determined as they reach the site so that a decision of which page to show can be made. In the same way that the new site improved conversion rates for US users but not for other users, further tests may reveal varying results for different types of users. \n",
      "\n",
      "(2) Mesure the impact on user experience of answering preference questions. One could achieve this by routing some fraction of users to a web page where they are never prompted to answer preference questions and compare their experiences to peers who have the option.\n"
     ]
    },
    {
     "cell_type": "heading",
     "level": 2,
     "metadata": {},
     "source": [
      "Assignment Mechanism Issue:"
     ]
    },
    {
     "cell_type": "markdown",
     "metadata": {},
     "source": [
      "A count of observations by ab group - landing page combinations reveals that something has gone horribly wrong either in the assigment mechanism itself or in the reporting of the experiemnt to ACME's log files."
     ]
    },
    {
     "cell_type": "code",
     "collapsed": false,
     "input": [
      "prt('observation count by ab/landing_page assignment:', \n",
      "        pivot_table(raw_experiment, values='converted', rows='ab', cols='landing_page', aggfunc=len, margins=True))"
     ],
     "language": "python",
     "metadata": {},
     "outputs": [
      {
       "output_type": "stream",
       "stream": "stdout",
       "text": [
        "\n",
        " observation count by ab/landing_page assignment: \n",
        "\n",
        "landing_page  new_page  old_page     All\n",
        "ab                                      \n",
        "control            NaN     90815   90815\n",
        "treatment        95574      4759  100333\n",
        "All              95574     95574  191148\n",
        "\n",
        "\n"
       ]
      }
     ],
     "prompt_number": 8
    },
    {
     "cell_type": "markdown",
     "metadata": {},
     "source": [
      "There aren't supposed to be any users in the treatment group who hit the old landing page! "
     ]
    },
    {
     "cell_type": "markdown",
     "metadata": {},
     "source": [
      "Almost immediately after logging an entry that a user has hit the new page, another log entry reports that the same user has hit the old page. Further, both rows are assigned to the treatment group. Aside from the typical pitfalls of including erroneous data points, including these observations has the potential to bias the results because the first of the consecutive hits never reports a converted preference questionaire. In this instance, inluding these observations biases the effect of the treatment downward since all of the first instances are taged with treatment but have a zero convertion rate."
     ]
    },
    {
     "cell_type": "code",
     "collapsed": false,
     "input": [
      "# looking at the log file\n",
      "misassigned.head()"
     ],
     "language": "python",
     "metadata": {},
     "outputs": [
      {
       "metadata": {},
       "output_type": "pyout",
       "prompt_number": 9,
       "text": [
        "       user_id                  ts         ab landing_page  converted  treatment_ind  landing_page_ind\n",
        "25  7408022885 2013-01-01 00:00:12  treatment     new_page          0              1                 1\n",
        "29  7408022885 2013-01-01 00:00:13  treatment     old_page          0              1                 0\n",
        "46  5208297982 2013-01-01 00:00:18  treatment     new_page          0              1                 1\n",
        "47  5208297982 2013-01-01 00:00:19  treatment     old_page          0              1                 0\n",
        "53  7611445284 2013-01-01 00:00:21  treatment     new_page          0              1                 1"
       ]
      }
     ],
     "prompt_number": 9
    },
    {
     "cell_type": "code",
     "collapsed": false,
     "input": [
      "# All misassigned obs are assigned to treatment\n",
      "# Conversion rate of new page is zero.\n",
      "print pivot_table(misassigned, values='converted', rows='landing_page', cols='ab', aggfunc=np.mean)"
     ],
     "language": "python",
     "metadata": {},
     "outputs": [
      {
       "output_type": "stream",
       "stream": "stdout",
       "text": [
        "ab            treatment\n",
        "landing_page           \n",
        "new_page       0.000000\n",
        "old_page       0.105274\n"
       ]
      }
     ],
     "prompt_number": 10
    },
    {
     "cell_type": "code",
     "collapsed": false,
     "input": [
      "# All misassigned are redirected to old page on second log entry\n",
      "misassigned['second_visit'] = misassigned.duplicated('user_id')\n",
      "print pivot_table(misassigned, values='converted', rows='second_visit', cols=['landing_page'], aggfunc=len)"
     ],
     "language": "python",
     "metadata": {},
     "outputs": [
      {
       "output_type": "stream",
       "stream": "stdout",
       "text": [
        "landing_page  new_page  old_page\n",
        "second_visit                    \n",
        "False             4759       NaN\n",
        "True               NaN      4759\n"
       ]
      }
     ],
     "prompt_number": 11
    },
    {
     "cell_type": "code",
     "collapsed": false,
     "input": [
      "# second log entry happens 1 second after first \n",
      "unstacked = misassigned.set_index(['second_visit', 'user_id']).unstack('second_visit')\n",
      "unstacked['second_visit_delay_seconds'] = (unstacked.ts[True] - unstacked.ts[False]).astype(int) / 10e8\n",
      "unstacked.second_visit_delay_seconds.value_counts()"
     ],
     "language": "python",
     "metadata": {},
     "outputs": [
      {
       "metadata": {},
       "output_type": "pyout",
       "prompt_number": 12,
       "text": [
        "1    4759\n",
        "dtype: int64"
       ]
      }
     ],
     "prompt_number": 12
    },
    {
     "cell_type": "code",
     "collapsed": false,
     "input": [
      "# Fraction misassigned by hour constant over the life of the test \n",
      "misassigned_count_by_hour = misassigned.set_index('ts').user_id.resample('H', how=len)\n",
      "experiment_count_by_hour = experiment.set_index('ts').user_id.resample('H', how=len)\n",
      "frac_missassigned = (misassigned_count_by_hour) / experiment_count_by_hour.astype(float)\n",
      "frac_missassigned.plot(kind='bar', title='Fraction Misassigned by Hour')"
     ],
     "language": "python",
     "metadata": {},
     "outputs": [
      {
       "metadata": {},
       "output_type": "pyout",
       "prompt_number": 13,
       "text": [
        "<matplotlib.axes.AxesSubplot at 0x105aafe50>"
       ]
      },
      {
       "metadata": {},
       "output_type": "display_data",
       "png": "[encoded data removed]",
       "text": [
        "<matplotlib.figure.Figure at 0x10c525b90>"
       ]
      }
     ],
     "prompt_number": 13
    },
    {
     "cell_type": "markdown",
     "metadata": {},
     "source": [
      "Over the 24 hour test period, the fraction of misassigned observations remains relatively constant at 5% - suggesting a persistent issue. However, the cause of this anomoly is unclear from the data - maybe some subset of users are incompatible with the new page and are immediately redirected to the old page. To be prudent, we drop any user that was involved in this misassignment in further analysis."
     ]
    },
    {
     "cell_type": "heading",
     "level": 2,
     "metadata": {},
     "source": [
      "Analysis on Cleaned Data"
     ]
    },
    {
     "cell_type": "markdown",
     "metadata": {},
     "source": [
      "First, we ensure that all observations in the treatment(control) group hit the new (old) landing page. Second, we test if the new landing page induces a significant improvement in convertion rate over the control group. We achieve this using OLS and report both one and two sided pvalues. Next we run OLS on xpanding windows starting at the test onset end ending at each hour on the hour to get a better idea of how the test evolved over time. We perform the expanding window OLS for both the full sample and on the subet consisting of US users. "
     ]
    },
    {
     "cell_type": "code",
     "collapsed": false,
     "input": [
      "run_analysis(experiment)"
     ],
     "language": "python",
     "metadata": {},
     "outputs": [
      {
       "output_type": "stream",
       "stream": "stdout",
       "text": [
        "\n",
        " observation count by ab/landing_page assignment: \n",
        "\n",
        "landing_page  new_page  old_page     All\n",
        "ab                                      \n",
        "control            NaN     90815   90815\n",
        "treatment        90815       NaN   90815\n",
        "All              90815     90815  181630\n",
        "\n",
        "\n",
        "\n",
        " percent of sample reporting country: \n",
        "\n",
        "0.968342234212\n",
        "\n",
        "\n",
        "\n",
        " OLS results by country: \n"
       ]
      },
      {
       "output_type": "stream",
       "stream": "stdout",
       "text": [
        "\n",
        "                               CA            UK            US    Full Sample\n",
        "control_conv_rate        0.101217      0.102032      0.098437       0.099642\n",
        "treatment_conv_rate      0.103125      0.103898      0.106920       0.104906\n",
        "treatment_effect         0.001908      0.001867      0.008483       0.005263\n",
        "one_sided_pval           0.295082      0.248481      0.000006       0.000107\n",
        "two_sided_pval           0.590163      0.496961      0.000013       0.000214\n",
        "nobs                 29245.000000  48931.000000  97704.000000  181630.000000\n",
        "\n",
        "\n",
        "\n",
        " OLS results full sample - hourly expanding window: \n"
       ]
      },
      {
       "output_type": "stream",
       "stream": "stdout",
       "text": [
        "\n",
        "                  control_conv_rate  treatment_conv_rate  treatment_effect  one_sided_pval  two_sided_pval    nobs\n",
        "[00:00 -> 1:00)            0.104869             0.115486          0.010617        0.070456        0.140911    7548\n",
        "[00:00 -> 2:00)            0.103398             0.111810          0.008412        0.047027        0.094054   15221\n",
        "[00:00 -> 3:00)            0.103258             0.112201          0.008944        0.014699        0.029398   22806\n",
        "[00:00 -> 4:00)            0.102234             0.110533          0.008298        0.009627        0.019255   30255\n",
        "[00:00 -> 5:00)            0.101009             0.108391          0.007382        0.009590        0.019179   37743\n",
        "[00:00 -> 6:00)            0.101266             0.109032          0.007765        0.003550        0.007101   45238\n",
        "[00:00 -> 7:00)            0.102131             0.108168          0.006038        0.011769        0.023538   52957\n",
        "[00:00 -> 8:00)            0.101021             0.107261          0.006240        0.006025        0.012049   60429\n",
        "[00:00 -> 9:00)            0.101103             0.107521          0.006418        0.003080        0.006160   68072\n",
        "[00:00 -> 10:00)           0.101686             0.106616          0.004930        0.013229        0.026459   75629\n",
        "[00:00 -> 11:00)           0.101121             0.105875          0.004754        0.012233        0.024466   83132\n",
        "[00:00 -> 12:00)           0.101155             0.106345          0.005190        0.005203        0.010406   90638\n",
        "[00:00 -> 13:00)           0.101077             0.105950          0.004873        0.006127        0.012253   98070\n",
        "[00:00 -> 14:00)           0.101410             0.105757          0.004347        0.010220        0.020441  105629\n",
        "[00:00 -> 15:00)           0.101190             0.105175          0.003985        0.013712        0.027424  113352\n",
        "[00:00 -> 16:00)           0.101253             0.104700          0.003447        0.024338        0.048676  120880\n",
        "[00:00 -> 17:00)           0.101064             0.104944          0.003880        0.011020        0.022040  128673\n",
        "[00:00 -> 18:00)           0.101404             0.105225          0.003820        0.010270        0.020540  136224\n",
        "[00:00 -> 19:00)           0.100610             0.105309          0.004699        0.001686        0.003373  143784\n",
        "[00:00 -> 20:00)           0.100574             0.104924          0.004350        0.002665        0.005330  151310\n",
        "[00:00 -> 21:00)           0.100644             0.105145          0.004502        0.001575        0.003150  158860\n",
        "[00:00 -> 22:00)           0.100281             0.104777          0.004496        0.001249        0.002498  166467\n",
        "[00:00 -> 23:00)           0.099933             0.104986          0.005053        0.000254        0.000508  174109\n",
        "[00:00 -> 24:00)           0.099642             0.104906          0.005263        0.000107        0.000214  181630\n",
        "\n",
        "\n",
        "\n",
        " OLS results US sample - hourly expanding window: \n"
       ]
      },
      {
       "output_type": "stream",
       "stream": "stdout",
       "text": [
        "\n",
        "                  control_conv_rate  treatment_conv_rate  treatment_effect  one_sided_pval  two_sided_pval   nobs\n",
        "[00:00 -> 1:00)            0.100648             0.115253          0.014605        0.067303        0.134607   4046\n",
        "[00:00 -> 2:00)            0.098595             0.115984          0.017389        0.005430        0.010859   8230\n",
        "[00:00 -> 3:00)            0.101578             0.114657          0.013079        0.009731        0.019463  12320\n",
        "[00:00 -> 4:00)            0.101968             0.112524          0.010557        0.014640        0.029279  16337\n",
        "[00:00 -> 5:00)            0.100447             0.111359          0.010913        0.005706        0.011412  20366\n",
        "[00:00 -> 6:00)            0.100892             0.110317          0.009426        0.008278        0.016556  24431\n",
        "[00:00 -> 7:00)            0.102197             0.110123          0.007926        0.014946        0.029892  28503\n",
        "[00:00 -> 8:00)            0.101303             0.108904          0.007601        0.012818        0.025636  32450\n",
        "[00:00 -> 9:00)            0.101135             0.108968          0.007833        0.007272        0.014543  36609\n",
        "[00:00 -> 10:00)           0.101773             0.108269          0.006496        0.016320        0.032639  40678\n",
        "[00:00 -> 11:00)           0.101334             0.107611          0.006277        0.015093        0.030186  44636\n",
        "[00:00 -> 12:00)           0.101398             0.107358          0.005960        0.015762        0.031523  48688\n",
        "[00:00 -> 13:00)           0.101305             0.107647          0.006342        0.008653        0.017306  52726\n",
        "[00:00 -> 14:00)           0.101179             0.107823          0.006643        0.004851        0.009702  56742\n",
        "[00:00 -> 15:00)           0.101207             0.107719          0.006512        0.004300        0.008600  60922\n",
        "[00:00 -> 16:00)           0.101379             0.106751          0.005372        0.012502        0.025004  64921\n",
        "[00:00 -> 17:00)           0.101281             0.106730          0.005448        0.009470        0.018941  69161\n",
        "[00:00 -> 18:00)           0.101215             0.106911          0.005696        0.005802        0.011603  73236\n",
        "[00:00 -> 19:00)           0.100073             0.107019          0.006946        0.000761        0.001522  77359\n",
        "[00:00 -> 20:00)           0.099463             0.106401          0.006938        0.000561        0.001121  81464\n",
        "[00:00 -> 21:00)           0.099533             0.106459          0.006926        0.000433        0.000867  85463\n",
        "[00:00 -> 22:00)           0.099234             0.106338          0.007104        0.000232        0.000464  89584\n",
        "[00:00 -> 23:00)           0.098837             0.106755          0.007919        0.000033        0.000066  93675\n",
        "[00:00 -> 24:00)           0.098437             0.106920          0.008483        0.000006        0.000013  97704\n",
        "\n",
        "\n"
       ]
      }
     ],
     "prompt_number": 14
    },
    {
     "cell_type": "heading",
     "level": 3,
     "metadata": {},
     "source": [
      "Results:"
     ]
    },
    {
     "cell_type": "markdown",
     "metadata": {},
     "source": [
      "For the full sample, we find that the new page induces a 0.53% point increase in convertion rate (~5% more convertions) and is highly significantly (one-sided pval .0001). Looking at the results by country reveals that this improvment is driven by an improvemnt in convertion rates among US users. For US users, the improvement is 0.85% (~8.5% more conversions) and is very highly significant (one-sided p < .0001) . For Canada and the UK the results show that the improvement is not significant at the 80% confidence level for either one or two sided tests (pvalues > .2).\n",
      "\n",
      "While it is best to look at the full test period data, the expanding window OLS for the US sample shows that the new page was statistically better at a 99% confidence level after just two hours of testing."
     ]
    },
    {
     "cell_type": "heading",
     "level": 2,
     "metadata": {},
     "source": [
      "Analysis on Raw Data"
     ]
    },
    {
     "cell_type": "markdown",
     "metadata": {},
     "source": [
      "Running the same analysis as above on raw experiment data we reach inconclusive results due to the bias from erroneous data points. "
     ]
    },
    {
     "cell_type": "code",
     "collapsed": false,
     "input": [
      "run_analysis(raw_experiment)"
     ],
     "language": "python",
     "metadata": {},
     "outputs": [
      {
       "output_type": "stream",
       "stream": "stdout",
       "text": [
        "\n",
        " observation count by ab/landing_page assignment: \n",
        "\n",
        "landing_page  new_page  old_page     All\n",
        "ab                                      \n",
        "control            NaN     90815   90815\n",
        "treatment        95574      4759  100333\n",
        "All              95574     95574  191148\n",
        "\n",
        "\n",
        "\n",
        " percent of sample reporting country: \n",
        "\n",
        "0.968244501643\n",
        "\n",
        "\n",
        "\n",
        " OLS results by country: \n"
       ]
      },
      {
       "output_type": "stream",
       "stream": "stdout",
       "text": [
        "\n",
        "                               CA            UK             US    Full Sample\n",
        "control_conv_rate        0.101217      0.102032       0.098437       0.099642\n",
        "treatment_conv_rate      0.098325      0.099606       0.101653       0.099947\n",
        "treatment_effect        -0.002892     -0.002426       0.003217       0.000305\n",
        "one_sided_pval           0.198773      0.180605       0.043109       0.412080\n",
        "two_sided_pval           0.397545      0.361211       0.086218       0.824160\n",
        "nobs                 30803.000000  51457.000000  102818.000000  191148.000000\n",
        "\n",
        "\n",
        "\n",
        " OLS results full sample - hourly expanding window: \n"
       ]
      },
      {
       "output_type": "stream",
       "stream": "stdout",
       "text": [
        "\n",
        "                  control_conv_rate  treatment_conv_rate  treatment_effect  one_sided_pval  two_sided_pval    nobs\n",
        "[00:00 -> 1:00)            0.104869             0.109820          0.004951        0.238427        0.476854    7954\n",
        "[00:00 -> 2:00)            0.103398             0.106826          0.003428        0.239943        0.479886   16045\n",
        "[00:00 -> 3:00)            0.103258             0.106721          0.003463        0.191205        0.382410   23992\n",
        "[00:00 -> 4:00)            0.102234             0.105370          0.003136        0.180036        0.360072   31805\n",
        "[00:00 -> 5:00)            0.101009             0.103471          0.002462        0.209539        0.419079   39657\n",
        "[00:00 -> 6:00)            0.101266             0.104008          0.002742        0.162603        0.325207   47582\n",
        "[00:00 -> 7:00)            0.102131             0.103255          0.001125        0.331174        0.662349   55713\n",
        "[00:00 -> 8:00)            0.101021             0.102274          0.001253        0.300717        0.601433   63669\n",
        "[00:00 -> 9:00)            0.101103             0.102562          0.001459        0.259550        0.519099   71660\n",
        "[00:00 -> 10:00)           0.101686             0.101580         -0.000106        0.480369        0.960738   79671\n",
        "[00:00 -> 11:00)           0.101121             0.100847         -0.000274        0.446527        0.893055   87604\n",
        "[00:00 -> 12:00)           0.101155             0.101356          0.000200        0.459227        0.918455   95506\n",
        "[00:00 -> 13:00)           0.101077             0.101031         -0.000045        0.490376        0.980753  103332\n",
        "[00:00 -> 14:00)           0.101410             0.100860         -0.000550        0.380531        0.761063  111303\n",
        "[00:00 -> 15:00)           0.101190             0.100255         -0.000935        0.295992        0.591984  119416\n",
        "[00:00 -> 16:00)           0.101253             0.099703         -0.001551        0.178975        0.357950  127372\n",
        "[00:00 -> 17:00)           0.101064             0.100035         -0.001029        0.264679        0.529358  135561\n",
        "[00:00 -> 18:00)           0.101404             0.100207         -0.001197        0.225950        0.451899  143478\n",
        "[00:00 -> 19:00)           0.100610             0.100219         -0.000391        0.400256        0.800512  151428\n",
        "[00:00 -> 20:00)           0.100574             0.099924         -0.000650        0.333017        0.666035  159320\n",
        "[00:00 -> 21:00)           0.100644             0.100165         -0.000479        0.372501        0.745001  167244\n",
        "[00:00 -> 22:00)           0.100281             0.099871         -0.000411        0.387430        0.774861  175195\n",
        "[00:00 -> 23:00)           0.099933             0.100051          0.000118        0.466617        0.933234  183209\n",
        "[00:00 -> 24:00)           0.099642             0.099947          0.000305        0.412080        0.824160  191148\n",
        "\n",
        "\n",
        "\n",
        " OLS results US sample - hourly expanding window: \n"
       ]
      },
      {
       "output_type": "stream",
       "stream": "stdout",
       "text": [
        "\n",
        "                  control_conv_rate  treatment_conv_rate  treatment_effect  one_sided_pval  two_sided_pval    nobs\n",
        "[00:00 -> 1:00)            0.100648             0.109188          0.008540        0.182265        0.364530    4260\n",
        "[00:00 -> 2:00)            0.098595             0.110032          0.011437        0.041151        0.082301    8692\n",
        "[00:00 -> 3:00)            0.101578             0.108336          0.006758        0.105298        0.210596   12970\n",
        "[00:00 -> 4:00)            0.101968             0.106680          0.004712        0.156743        0.313486   17183\n",
        "[00:00 -> 5:00)            0.100447             0.105653          0.005206        0.105662        0.211323   21414\n",
        "[00:00 -> 6:00)            0.100892             0.104510          0.003619        0.169980        0.339960   25747\n",
        "[00:00 -> 7:00)            0.102197             0.104863          0.002666        0.224768        0.449537   30007\n",
        "[00:00 -> 8:00)            0.101303             0.103788          0.002485        0.224850        0.449700   34232\n",
        "[00:00 -> 9:00)            0.101135             0.104102          0.002968        0.169005        0.338011   38557\n",
        "[00:00 -> 10:00)           0.101773             0.103121          0.001348        0.322933        0.645865   42874\n",
        "[00:00 -> 11:00)           0.101334             0.102422          0.001088        0.348476        0.696952   47052\n",
        "[00:00 -> 12:00)           0.101398             0.102299          0.000900        0.368218        0.736437   51318\n",
        "[00:00 -> 13:00)           0.101305             0.102471          0.001166        0.325084        0.650167   55562\n",
        "[00:00 -> 14:00)           0.101179             0.102682          0.001503        0.272259        0.544519   59780\n",
        "[00:00 -> 15:00)           0.101207             0.102475          0.001268        0.298019        0.596038   64186\n",
        "[00:00 -> 16:00)           0.101379             0.101444          0.000066        0.488667        0.977334   68413\n",
        "[00:00 -> 17:00)           0.101281             0.101546          0.000265        0.453001        0.906002   72845\n",
        "[00:00 -> 18:00)           0.101215             0.101637          0.000422        0.423157        0.846315   77092\n",
        "[00:00 -> 19:00)           0.100073             0.101691          0.001619        0.221946        0.443892   81427\n",
        "[00:00 -> 20:00)           0.099463             0.101135          0.001672        0.207991        0.415982   85736\n",
        "[00:00 -> 21:00)           0.099533             0.101180          0.001647        0.205987        0.411974   89931\n",
        "[00:00 -> 22:00)           0.099234             0.101149          0.001915        0.164177        0.328354   94262\n",
        "[00:00 -> 23:00)           0.098837             0.101497          0.002660        0.082508        0.165016   98549\n",
        "[00:00 -> 24:00)           0.098437             0.101653          0.003217        0.043109        0.086218  102818\n",
        "\n",
        "\n"
       ]
      }
     ],
     "prompt_number": 15
    },
    {
     "cell_type": "code",
     "collapsed": false,
     "input": [
      "from pandas import *\n",
      "import statsmodels.api as sm\n",
      "from scipy.stats import norm\n",
      "import numpy as np\n",
      "\n",
      "set_option(\"display.notebook_repr_html\",False) \n",
      "set_option(\"display.max_columns\",50) \n",
      "set_option(\"display.max_rows\",5000) \n",
      "set_option(\"display.line_width\",200) "
     ],
     "language": "python",
     "metadata": {},
     "outputs": [],
     "prompt_number": 16
    },
    {
     "cell_type": "code",
     "collapsed": false,
     "input": [
      "# load data\n",
      "country_file = '/Users/daflatow/Dropbox/AirBnB/country.csv'\n",
      "experiment_file = '/Users/daflatow/Dropbox/AirBnB/experiment.csv'\n",
      "experiment = read_csv(experiment_file)\n",
      "country = read_csv(country_file)"
     ],
     "language": "python",
     "metadata": {},
     "outputs": [],
     "prompt_number": 2
    },
    {
     "cell_type": "code",
     "collapsed": false,
     "input": [
      "# format data\n",
      "experiment['ts'] = experiment.ts.values.astype(int).astype('datetime64[s]')\n",
      "experiment['treatment_ind'] = (experiment.ab == 'treatment').astype(int)\n",
      "experiment['landing_page_ind'] = (experiment.landing_page == 'new_page').astype(int) \n",
      "\n",
      "# clean country data (dropping duplicates)\n",
      "country = country.drop_duplicates()\n",
      "\n",
      "# clean experiment data (dropping all rows that were duplicated)\n",
      "duplicated_bool = experiment.duplicated(cols='user_id', take_last=True\n",
      "                                         ) | experiment.duplicated(cols='user_id', take_last=False)\n",
      "\n",
      "misassigned_bool = duplicated_bool & (experiment.ab == 'treatment')\n",
      "\n",
      "# different cuts of data\n",
      "misassigned = experiment[misassigned_bool]\n",
      "raw_experiment = experiment.copy()\n",
      "experiment = experiment[~misassigned_bool]\n",
      "\n",
      "# merge country data\n",
      "experiment = merge(experiment, country, on='user_id', how='left')\n",
      "raw_experiment = merge(raw_experiment,  country, on='user_id', how='left')"
     ],
     "language": "python",
     "metadata": {},
     "outputs": [],
     "prompt_number": 3
    },
    {
     "cell_type": "code",
     "collapsed": false,
     "input": [
      "def run_analysis(experiment, x_var='treatment_ind'):\n",
      "    \n",
      "    country_focus = 'US'\n",
      "    \n",
      "    prt('observation count by ab/landing_page assignment:', \n",
      "        pivot_table(experiment, values='converted', rows='ab', cols='landing_page', aggfunc=len, margins=True))\n",
      "    \n",
      "    prt('percent of sample reporting country:', experiment.count()['country'] / float(len(experiment.index)))\n",
      "        \n",
      "    reg_restults_by_country = experiment.groupby('country').apply(run_regr, x_var)\n",
      "    full_sample = DataFrame(run_regr(experiment, x_var), columns=['Full Sample']).T\n",
      "    reg_stats = concat([reg_restults_by_country, full_sample]).T\n",
      "    \n",
      "    \n",
      "    prt('OLS results by country:', reg_stats)\n",
      "    \n",
      "    prt('OLS results full sample - hourly expanding window:', run_expanding_regr(experiment))\n",
      "    \n",
      "    prt('OLS results ' + country_focus + ' sample - hourly expanding window:', \n",
      "        run_expanding_regr(experiment[experiment.country == country_focus]))\n",
      "    "
     ],
     "language": "python",
     "metadata": {},
     "outputs": [],
     "prompt_number": 4
    },
    {
     "cell_type": "code",
     "collapsed": false,
     "input": [
      "def run_expanding_regr(frame, x_var='treatment_ind'):\n",
      "    \n",
      "    hours = range(0, 24)\n",
      "    frame = frame.set_index('ts')\n",
      "    \n",
      "    list_of_reg_results = []\n",
      "    for hour in hours:\n",
      "        results = DataFrame(run_regr(frame[frame.index.hour <= hour] , x_var), columns=['[00:00 -> ' + str(hour + 1) + ':00)']).T\n",
      "        list_of_reg_results += [results]\n",
      "    \n",
      "    return concat(list_of_reg_results, axis=0)\n",
      "    "
     ],
     "language": "python",
     "metadata": {},
     "outputs": [],
     "prompt_number": 5
    },
    {
     "cell_type": "code",
     "collapsed": false,
     "input": [
      "def run_regr(frame, x_var='treatment_ind'):\n",
      "    \n",
      "    # define X,Y vars\n",
      "    Y = frame['converted']\n",
      "    X = frame[[x_var]]\n",
      "    X['intercept'] = 1\n",
      "    \n",
      "    # run regression\n",
      "    result = sm.OLS(Y, X).fit()\n",
      "    \n",
      "    # package results for output\n",
      "    result_dict = {}\n",
      "    result_dict['nobs'] = int(result.nobs)\n",
      "    result_dict['control_conv_rate'] = result.params.loc['intercept']\n",
      "    result_dict['treatment_effect'] = result.params.loc[x_var]\n",
      "    result_dict['treatment_conv_rate'] = result_dict['control_conv_rate'] + result_dict['treatment_effect']\n",
      "    result_dict['two_sided_pval'] = result.pvalues.loc[x_var]\n",
      "    result_dict['one_sided_pval'] = result_dict['two_sided_pval'] / 2\n",
      "    \n",
      "    \n",
      "    # p-val sanity check\n",
      "    nobs = len(X.index)\n",
      "    se_sample_mean = X.std() / sqrt(nobs) # should actually use pooled standard error - but safe to assume control/treatment same var\n",
      "    t = result_dict['treatment_effect'] / se_sample_mean \n",
      "    pval = 1 - norm.cdf(t)[0] # should actually be drawing from t here\n",
      "    \n",
      "    if  (result_dict['one_sided_pval'] - pval) > .1:\n",
      "        raise Exception('p-values breaching sanity check')\n",
      "        \n",
      "    \n",
      "    out_series = Series(result_dict)\n",
      "    \n",
      "    return out_series.reindex(index=['control_conv_rate', 'treatment_conv_rate', \n",
      "                                     'treatment_effect', 'one_sided_pval',\n",
      "                                     'two_sided_pval', 'nobs'])"
     ],
     "language": "python",
     "metadata": {},
     "outputs": [],
     "prompt_number": 6
    },
    {
     "cell_type": "code",
     "collapsed": false,
     "input": [
      "def prt(title, frame):\n",
      "    print '\\n %s \\n' % title\n",
      "    print frame\n",
      "    print '\\n'"
     ],
     "language": "python",
     "metadata": {},
     "outputs": [],
     "prompt_number": 7
    }
   ],
   "metadata": {}
  }
 ]
}